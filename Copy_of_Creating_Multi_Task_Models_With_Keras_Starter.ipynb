{
  "nbformat": 4,
  "nbformat_minor": 0,
  "metadata": {
    "kernelspec": {
      "display_name": "Python 3",
      "language": "python",
      "name": "python3"
    },
    "language_info": {
      "codemirror_mode": {
        "name": "ipython",
        "version": 3
      },
      "file_extension": ".py",
      "mimetype": "text/x-python",
      "name": "python",
      "nbconvert_exporter": "python",
      "pygments_lexer": "ipython3",
      "version": "3.8.5"
    },
    "colab": {
      "provenance": [],
      "collapsed_sections": []
    }
  },
  "cells": [
    {
      "cell_type": "markdown",
      "metadata": {
        "id": "jKIdV8hoVX5F"
      },
      "source": [
        "## Task 1: Introduction\n",
        "\n",
        "Starter notebook for the Coursera Guided Project [Creating Multi Task Models With Keras](https://www.coursera.org/projects/multi-task-models-keras)"
      ]
    },
    {
      "cell_type": "code",
      "metadata": {
        "id": "JM_cJ0ayVX5M"
      },
      "source": [
        "%matplotlib inline\n",
        "%load_ext tensorboard\n",
        "\n",
        "import tensorflow as tf\n",
        "import numpy as np\n",
        "import matplotlib.pyplot as plt\n",
        "import shutil\n",
        "\n",
        "try:\n",
        "  shutil.rmtree('logs')\n",
        "except:\n",
        "  pass"
      ],
      "execution_count": null,
      "outputs": []
    },
    {
      "cell_type": "markdown",
      "metadata": {
        "id": "QiIPp2H0VX5N"
      },
      "source": [
        "## Task 2: Create Dataset"
      ]
    },
    {
      "cell_type": "code",
      "metadata": {
        "id": "QovZqtGiVX5P",
        "outputId": "bf59c643-0ad1-46b6-e422-7e6ae9af25f7",
        "colab": {
          "base_uri": "https://localhost:8080/"
        }
      },
      "source": [
        "(x_train, y_train), (x_test, y_test) = tf.keras.datasets.mnist.load_data()"
      ],
      "execution_count": null,
      "outputs": [
        {
          "output_type": "stream",
          "name": "stdout",
          "text": [
            "Downloading data from https://storage.googleapis.com/tensorflow/tf-keras-datasets/mnist.npz\n",
            "11493376/11490434 [==============================] - 0s 0us/step\n",
            "11501568/11490434 [==============================] - 0s 0us/step\n"
          ]
        }
      ]
    },
    {
      "cell_type": "code",
      "metadata": {
        "id": "8RZZS1NoVX5P"
      },
      "source": [
        "def create_example(x,y):\n",
        "  c = np.random.randint(0,2)\n",
        "  image = 0.5 * np.random.rand(28,28,3)\n",
        "  image[:,:,c] += 0.5*x/255.\n",
        "  return image, y, c"
      ],
      "execution_count": null,
      "outputs": []
    },
    {
      "cell_type": "code",
      "metadata": {
        "id": "F5t-OsIpVX5Q",
        "outputId": "648f6c1a-ea85-45e6-85c9-6707f1bb0ede",
        "colab": {
          "base_uri": "https://localhost:8080/",
          "height": 283
        }
      },
      "source": [
        "colors = {0:'red',1:'green'}\n",
        "\n",
        "x,y,c = create_example(x_train[1],y_train[1])\n",
        "print(f'digit:{y}, color:{colors[c]}')\n",
        "\n",
        "plt.imshow(x)\n",
        "plt.show()"
      ],
      "execution_count": null,
      "outputs": [
        {
          "output_type": "stream",
          "name": "stdout",
          "text": [
            "digit:0, color:green\n"
          ]
        },
        {
          "output_type": "display_data",
          "data": {
            "text/plain": [
              "<Figure size 432x288 with 1 Axes>"
            ],
            "image/png": "[encoded data removed]"
          },
          "metadata": {
            "needs_background": "light"
          }
        }
      ]
    },
    {
      "cell_type": "markdown",
      "metadata": {
        "id": "bzzPlFteVX5Q"
      },
      "source": [
        "## Task 3: Dataset Generator"
      ]
    },
    {
      "cell_type": "code",
      "metadata": {
        "id": "FflkdksnVX5R"
      },
      "source": [
        "def generate_data(x, y, batch_size = 32):\n",
        "  num_example = len(y)\n",
        "\n",
        "  while(True):\n",
        "    x_batch = np.zeros((batch_size, 28, 28,3))\n",
        "    y_batch = np.zeros((batch_size, ))\n",
        "    c_batch = np.zeros((batch_size, ))\n",
        "\n",
        "    for i in range(0, batch_size):\n",
        "      index = np.random.randint(0, num_example)\n",
        "      image, digit, color = create_example(x[index], y[index])\n",
        "      x_batch[i] = image \n",
        "      y_batch[i] = digit\n",
        "      c_batch[i] = color\n",
        "\n",
        "    yield x_batch, [y_batch, c_batch]"
      ],
      "execution_count": null,
      "outputs": []
    },
    {
      "cell_type": "code",
      "source": [
        "x, [y, c] = next(generate_data(x_test, y_test, batch_size=1))"
      ],
      "metadata": {
        "id": "mTZ7q85TJOt_"
      },
      "execution_count": null,
      "outputs": []
    },
    {
      "cell_type": "code",
      "source": [
        "print(y, c)\n",
        "plt.imshow(x[0]);"
      ],
      "metadata": {
        "id": "xZg5d6j2KWkf",
        "outputId": "3bc52609-6f6c-4bc8-f4ae-ceefc540ea09",
        "colab": {
          "base_uri": "https://localhost:8080/",
          "height": 283
        }
      },
      "execution_count": null,
      "outputs": [
        {
          "output_type": "stream",
          "name": "stdout",
          "text": [
            "[9.] [0.]\n"
          ]
        },
        {
          "output_type": "display_data",
          "data": {
            "text/plain": [
              "<Figure size 432x288 with 1 Axes>"
            ],
            "image/png": "[encoded data removed]"
          },
          "metadata": {
            "needs_background": "light"
          }
        }
      ]
    },
    {
      "cell_type": "markdown",
      "metadata": {
        "id": "yQDBRzzoVX5R"
      },
      "source": [
        "## Task 4: Create Model"
      ]
    },
    {
      "cell_type": "code",
      "metadata": {
        "id": "TJJ9Bj86VX5R"
      },
      "source": [],
      "execution_count": null,
      "outputs": []
    },
    {
      "cell_type": "code",
      "metadata": {
        "id": "agtm1bq3VX5T"
      },
      "source": [],
      "execution_count": null,
      "outputs": []
    },
    {
      "cell_type": "markdown",
      "metadata": {
        "id": "Aa6yAsj-VX5U"
      },
      "source": [
        "## Task 5: Training the Model"
      ]
    },
    {
      "cell_type": "code",
      "metadata": {
        "id": "hDEFFWKGVX5U"
      },
      "source": [
        "class Logger(tf.keras.callbacks.Callback):\n",
        "  def on_epoch_end(self, epoch, logs=None):\n",
        "    digit_accuracy = logs.get('digit_accuracy')\n",
        "    color_accuracy = logs.get('color_accuracy')\n",
        "    val_digit_accuracy = logs.get('val_digit_accuracy')\n",
        "    val_color_accuracy = logs.get('val_color_accuracy')\n",
        "    print('='*30, epoch + 1, '='*30)\n",
        "    print(f'digit_accuracy: {digit_accuracy:.2f}, color_accuracy: {color_accuracy:.2f}')\n",
        "    print(f'val_digit_accuracy: {val_digit_accuracy:.2f}, val_color_accuracy: {val_color_accuracy:.2f}')"
      ],
      "execution_count": null,
      "outputs": []
    },
    {
      "cell_type": "code",
      "metadata": {
        "id": "q92Hm71DVX5V"
      },
      "source": [],
      "execution_count": null,
      "outputs": []
    },
    {
      "cell_type": "code",
      "metadata": {
        "id": "Uw2cUj9dVX5V"
      },
      "source": [
        "%tensorboard --logdir logs"
      ],
      "execution_count": null,
      "outputs": []
    },
    {
      "cell_type": "markdown",
      "metadata": {
        "id": "SatoHJXuVX5V"
      },
      "source": [
        "## Task 6: Final Predictions"
      ]
    },
    {
      "cell_type": "code",
      "metadata": {
        "id": "FB2VxmrpVX5V"
      },
      "source": [
        "def test_model(show=True):\n",
        "  x, [y, c] = next(test)\n",
        "  \n",
        "  preds = model.predict(x)\n",
        "  pred_digit = np.argmax(preds[0])\n",
        "  pred_color = int(preds[1] > 0.5)\n",
        "  gt_digit = int(y[0])\n",
        "  gt_color = int(c[0])\n",
        "  \n",
        "  plt.imshow(x[0])\n",
        "  if show:\n",
        "    print(f'GT: {gt_digit}, {colors[gt_color]}')\n",
        "    print(f'Pr: {pred_digit}, {colors[pred_color]}')\n",
        "    plt.show()\n",
        "  else:\n",
        "    col = 'green' if gt_digit == pred_digit and gt_color == pred_color else 'red'\n",
        "    plt.ylabel(f'GT: {gt_digit}, {colors[gt_color]}', color=col)\n",
        "    plt.xlabel(f'Pr: {pred_digit}, {colors[pred_color]}', color=col)\n",
        "    plt.xticks([])\n",
        "    plt.yticks([])\n",
        "\n",
        "\n",
        "test = generate_data(x_test, y_test, batch_size=1)"
      ],
      "execution_count": null,
      "outputs": []
    },
    {
      "cell_type": "code",
      "metadata": {
        "id": "TosHWUfsVX5V"
      },
      "source": [],
      "execution_count": null,
      "outputs": []
    },
    {
      "cell_type": "code",
      "metadata": {
        "id": "7EG78TwdVX5W"
      },
      "source": [],
      "execution_count": null,
      "outputs": []
    }
  ]
}